{
  "cells": [
    {
      "cell_type": "code",
      "execution_count": 6,
      "metadata": {
        "id": "m6WjGT4w_eNa"
      },
      "outputs": [],
      "source": [
        "import torch\n",
        "import random\n",
        "\n",
        "def create_random_conflict_matrix(n):\n",
        "    # Initialize a 24x24 matrix with zeros\n",
        "    matrix = torch.zeros(n, n)\n",
        "\n",
        "    # Randomly mark some adjacent seats as conflicting (1)\n",
        "    for i in range(n):\n",
        "        if i > 0 and random.random() < 0.5:\n",
        "            matrix[i][i - 1] = 1\n",
        "            matrix[i - 1][i] = 1\n",
        "        if i < n - 1 and random.random() < 0.5:\n",
        "            matrix[i][i + 1] = 1\n",
        "            matrix[i + 1][i] = 1\n",
        "\n",
        "    return matrix\n",
        "\n",
        "# Create 500 random conflict matrices\n",
        "num_iterations = 500\n",
        "random_conflict_matrices = [create_random_conflict_matrix(24) for _ in range(num_iterations)]\n",
        "\n",
        "#List to tensor\n",
        "conflict_matrices = torch.stack(random_conflict_matrices, dim=0)"
      ]
    },
    {
      "cell_type": "code",
      "execution_count": 7,
      "metadata": {
        "id": "5b4CFXTx_9Tb"
      },
      "outputs": [],
      "source": [
        "\n",
        "def calculate_total_conflicts(arrangement, conflict_matrix):\n",
        "    \"\"\"\n",
        "    Calculates the total conflicts for a given arrangement based on the conflict matrix.\n",
        "    Args:\n",
        "        arrangement (torch.Tensor): Binary tensor representing the arrangement (1 for occupied, 0 for vacant).\n",
        "        conflict_matrix (torch.Tensor): Conflict matrix (1 indicates conflict, 0 indicates no conflict).\n",
        "    Returns:\n",
        "        int: Total number of conflicts.\n",
        "    \"\"\"\n",
        "    # Ensure that the arrangement and conflict_matrix have the same shape\n",
        "    assert arrangement.shape == conflict_matrix.shape, \"Shapes of arrangement and conflict_matrix must match.\"\n",
        "\n",
        "    # Compute the element-wise product of arrangement and conflict_matrix\n",
        "    conflicts = arrangement * conflict_matrix\n",
        "\n",
        "    # Sum the conflicts\n",
        "    total_conflicts = torch.sum(conflicts)\n",
        "\n",
        "    return total_conflicts.item()\n"
      ]
    },
    {
      "cell_type": "code",
      "execution_count": 8,
      "metadata": {
        "id": "qAvNy2YxqpZy"
      },
      "outputs": [],
      "source": [
        "def custom_loss(predictions, conflict_matrix):\n",
        "    \"\"\"\n",
        "    Custom loss function that penalizes adjacent seats being occupied simultaneously.\n",
        "    Args:\n",
        "        predictions (torch.Tensor): Predicted values (e.g., occupancy probabilities).\n",
        "        conflict_matrix (torch.Tensor): Conflict matrix (1 indicates conflict, 0 indicates no conflict).\n",
        "    Returns:\n",
        "        torch.Tensor: Loss value.\n",
        "    \"\"\"\n",
        "    # Compute the conflict term (sum of conflicts)\n",
        "    conflict_term = torch.sum(predictions * conflict_matrix)\n",
        "\n",
        "    # Compute the mean squared error (MSE) term\n",
        "    mse_term = torch.mean(predictions ** 2)\n",
        "\n",
        "    # Combine the terms (you can adjust the weights as needed)\n",
        "    loss = mse_term + 0.1 * conflict_term\n",
        "\n",
        "    return loss"
      ]
    },
    {
      "cell_type": "code",
      "execution_count": 11,
      "metadata": {
        "id": "2y9PIirYqpZz"
      },
      "outputs": [],
      "source": [
        "import torch\n",
        "import torch.nn as nn\n",
        "import torch.optim as optim\n",
        "\n",
        "class OccupancyNet(nn.Module):\n",
        "    def __init__(self, input_size):\n",
        "        super(OccupancyNet, self).__init__()\n",
        "        self.fc1 = nn.Linear(input_size, 64)  # Hidden layer with 64 neurons\n",
        "        self.fc2 = nn.Linear(64, 24*24)  # Output layer (24x24 neurons for occupancy prediction)\n",
        "\n",
        "    def forward(self, x):\n",
        "        x = torch.relu(self.fc1(x))  # Apply ReLU activation to hidden layer\n",
        "        x = self.fc2(x)  # Output layer (no activation function)\n",
        "        return x.view(-1, 24, 24)  # Reshape to 24x24 grid\n",
        "\n",
        "# An Example of 24 for seats\n",
        "input_size = 24  # Number of seats (features)\n",
        "model = OccupancyNet(input_size)\n",
        "\n",
        "# Generate random input data (replace with your actual data)\n",
        "batch_size = 500\n",
        "input_data = torch.rand(batch_size, input_size)\n",
        "\n",
        "# Forward pass through the model\n",
        "prediction= model(input_data)\n"
      ]
    },
    {
      "cell_type": "code",
      "execution_count": 12,
      "metadata": {
        "colab": {
          "base_uri": "https://localhost:8080/"
        },
        "id": "y5lVd8IRqpZz",
        "outputId": "930d3bcb-002a-4194-9750-91ec9ffc7144"
      },
      "outputs": [
        {
          "output_type": "stream",
          "name": "stdout",
          "text": [
            "tensor([[ 8, 18, 17,  9],\n",
            "        [21, 13,  5,  1],\n",
            "        [ 0,  0, 20,  9],\n",
            "        [19, 17, 11, 15],\n",
            "        [11,  1, 13, 20],\n",
            "        [15, 21, 21, 13]])\n"
          ]
        }
      ],
      "source": [
        "# the seating order for the first 24 people\n",
        "seat1=torch.argmax(prediction[0], dim=0)\n",
        "print(seat1.reshape((6, 4)))"
      ]
    },
    {
      "cell_type": "code",
      "execution_count": null,
      "metadata": {
        "id": "mg06zbn1qpZ0"
      },
      "outputs": [],
      "source": [
        "######################################################################################################################################"
      ]
    }
  ],
  "metadata": {
    "colab": {
      "provenance": []
    },
    "kernelspec": {
      "display_name": "Python 3",
      "name": "python3"
    },
    "language_info": {
      "name": "python"
    }
  },
  "nbformat": 4,
  "nbformat_minor": 0
}